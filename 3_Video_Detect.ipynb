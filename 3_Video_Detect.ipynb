{
 "cells": [
  {
   "cell_type": "code",
   "execution_count": 1,
   "metadata": {},
   "outputs": [],
   "source": [
    "import cv2 as cv\n",
    "from IPython.display import HTML"
   ]
  },
  {
   "cell_type": "code",
   "execution_count": 2,
   "metadata": {},
   "outputs": [],
   "source": [
    "face_cascade = cv.CascadeClassifier(\"Data/cat_face.xml\")\n",
    "cat_video = cv.VideoCapture('Data/Chatte.mp4')"
   ]
  },
  {
   "cell_type": "code",
   "execution_count": 3,
   "metadata": {},
   "outputs": [],
   "source": [
    "width = int(cat_video.get(cv.CAP_PROP_FRAME_WIDTH) + 0.5)\n",
    "height = int(cat_video.get(cv.CAP_PROP_FRAME_HEIGHT) + 0.5)\n",
    "size = (width, height)\n",
    "video_recognized = cv.VideoWriter('Data/Chatte_Recognized.mp4', -1, 30.0, size)"
   ]
  },
  {
   "cell_type": "code",
   "execution_count": 4,
   "metadata": {},
   "outputs": [],
   "source": [
    "while True:\n",
    "    _, img = cat_video.read()\n",
    "  \n",
    "    gray = None\n",
    "    \n",
    "    if img is not None: \n",
    "        gray = cv.cvtColor(img, cv.COLOR_BGR2GRAY)\n",
    "    else:\n",
    "        break\n",
    "\n",
    "    faces = face_cascade.detectMultiScale(gray, 1.1, 2)\n",
    "    for (x, y, w, h) in faces:\n",
    "        cv.rectangle(img, (x, y), (x+w, y+h), (150, 250, 200), 2)\n",
    "\n",
    "    if img is not None:\n",
    "        video_recognized.write(img)\n",
    "        cv.imshow('Face detected', img)\n",
    "\n",
    "    k = cv.waitKey(30) & 0xff\n",
    "    if k == 27:\n",
    "        break\n",
    "\n",
    "cat_video.release()\n",
    "video_recognized.release()\n",
    "cv.destroyAllWindows()"
   ]
  },
  {
   "cell_type": "code",
   "execution_count": 5,
   "metadata": {},
   "outputs": [
    {
     "data": {
      "text/html": [
       "<video width=width height=height controls>\n",
       "    <source src='Data/Chatte_Recognized.mp4' type=\"video/mp4\">\n",
       "</video>\n"
      ],
      "text/plain": [
       "<IPython.core.display.HTML object>"
      ]
     },
     "metadata": {},
     "output_type": "display_data"
    }
   ],
   "source": [
    "%%HTML\n",
    "<video width=width height=height controls>\n",
    "    <source src='Data/Chatte_Recognized.mp4' type=\"video/mp4\">\n",
    "</video>"
   ]
  }
 ],
 "metadata": {
  "kernelspec": {
   "display_name": "Python 3",
   "language": "python",
   "name": "python3"
  },
  "language_info": {
   "codemirror_mode": {
    "name": "ipython",
    "version": 3
   },
   "file_extension": ".py",
   "mimetype": "text/x-python",
   "name": "python",
   "nbconvert_exporter": "python",
   "pygments_lexer": "ipython3",
   "version": "3.8.5"
  }
 },
 "nbformat": 4,
 "nbformat_minor": 4
}
